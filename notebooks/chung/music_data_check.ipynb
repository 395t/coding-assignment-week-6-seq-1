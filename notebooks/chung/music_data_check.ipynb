{
 "cells": [
  {
   "cell_type": "code",
   "execution_count": 1,
   "id": "71ec57ac",
   "metadata": {},
   "outputs": [],
   "source": [
    "import sys\n",
    "sys.path.insert(0, \"../../src/chung/\")\n",
    "\n",
    "import matplotlib.pyplot as plt\n",
    "\n",
    "from utils import music_dataloader"
   ]
  },
  {
   "cell_type": "markdown",
   "id": "b79efd84",
   "metadata": {},
   "source": [
    "This is a notebook to demonstrate what a music dataset in the directory `src/chung/data/music/` looks like. Each dataset contains sequences of notes to be played at each timestep, and instead of notes, they are preprocessed one-hot vector of notes. There are 88 possible notes in total, which corresponds to MIDI note numbers between 21 and 108 inclusive.\n",
    "\n",
    "Music source: http://www-ens.iro.umontreal.ca/~boulanni/icml2012"
   ]
  },
  {
   "cell_type": "markdown",
   "id": "907341e1",
   "metadata": {},
   "source": [
    "#### Nottingham"
   ]
  },
  {
   "cell_type": "code",
   "execution_count": 2,
   "id": "2669f11b",
   "metadata": {},
   "outputs": [
    {
     "name": "stdout",
     "output_type": "stream",
     "text": [
      "loading Nott data...\n"
     ]
    }
   ],
   "source": [
    "train, val, test = music_dataloader(\"Nott\", prefix=\"../../src/chung/\")"
   ]
  },
  {
   "cell_type": "markdown",
   "id": "152c2c2f",
   "metadata": {},
   "source": [
    "#### Nottingham Examples\n",
    "\n",
    "Let's take the first sequence in the validation set."
   ]
  },
  {
   "cell_type": "code",
   "execution_count": 3,
   "id": "1aa1c99f",
   "metadata": {},
   "outputs": [
    {
     "data": {
      "text/plain": [
       "torch.Size([192, 88])"
      ]
     },
     "execution_count": 3,
     "metadata": {},
     "output_type": "execute_result"
    }
   ],
   "source": [
    "val[0].shape"
   ]
  },
  {
   "cell_type": "markdown",
   "id": "730b9837",
   "metadata": {},
   "source": [
    "This corresponds to a music sequence of 192 timesteps. There are 88 possible notes, hence the second dimension is 88.\n",
    "\n",
    "An example timestep looks like:"
   ]
  },
  {
   "cell_type": "code",
   "execution_count": 4,
   "id": "025658c9",
   "metadata": {},
   "outputs": [
    {
     "data": {
      "text/plain": [
       "tensor([0., 0., 0., 0., 0., 0., 0., 0., 0., 0., 0., 0., 0., 0., 0., 0., 0., 0.,\n",
       "        0., 0., 0., 0., 0., 0., 0., 0., 0., 0., 0., 0., 0., 0., 0., 0., 0., 0.,\n",
       "        0., 0., 0., 1., 0., 0., 0., 1., 0., 0., 1., 0., 0., 0., 0., 1., 0., 0.,\n",
       "        0., 0., 0., 0., 0., 0., 0., 0., 0., 0., 0., 0., 0., 0., 0., 0., 0., 0.,\n",
       "        0., 0., 0., 0., 0., 0., 0., 0., 0., 0., 0., 0., 0., 0., 0., 0.])"
      ]
     },
     "execution_count": 4,
     "metadata": {},
     "output_type": "execute_result"
    }
   ],
   "source": [
    "val[0][0]"
   ]
  },
  {
   "cell_type": "markdown",
   "id": "a78554ed",
   "metadata": {},
   "source": [
    "An example sequence looks like:"
   ]
  },
  {
   "cell_type": "code",
   "execution_count": 5,
   "id": "83914b07",
   "metadata": {},
   "outputs": [
    {
     "data": {
      "text/plain": [
       "Text(0.5, 0, 'Timestep')"
      ]
     },
     "execution_count": 5,
     "metadata": {},
     "output_type": "execute_result"
    },
    {
     "data": {
      "image/png": "[encoded data removed]",
      "text/plain": [
       "<Figure size 864x576 with 1 Axes>"
      ]
     },
     "metadata": {
      "needs_background": "light"
     },
     "output_type": "display_data"
    }
   ],
   "source": [
    "fig, ax = plt.subplots(figsize=(12,8))\n",
    "ax.imshow(val[0].T, cmap='Greys', origin='lower')\n",
    "y_label_list = ['C0', 'C1', 'C2', 'C3', 'C4', 'C5', 'C6', 'C7']\n",
    "ax.set_yticks([3, 15, 27, 39, 51, 63, 75, 87])\n",
    "ax.set_yticklabels(y_label_list)\n",
    "ax.set_ylabel('Notes')\n",
    "ax.set_xlabel('Timestep')"
   ]
  },
  {
   "cell_type": "markdown",
   "id": "3d581e26",
   "metadata": {},
   "source": [
    "Second validation sequence looks like:"
   ]
  },
  {
   "cell_type": "code",
   "execution_count": 6,
   "id": "e9754a75",
   "metadata": {},
   "outputs": [
    {
     "data": {
      "text/plain": [
       "Text(0.5, 0, 'Timestep')"
      ]
     },
     "execution_count": 6,
     "metadata": {},
     "output_type": "execute_result"
    },
    {
     "data": {
      "image/png": "[encoded data removed]",
      "text/plain": [
       "<Figure size 864x576 with 1 Axes>"
      ]
     },
     "metadata": {
      "needs_background": "light"
     },
     "output_type": "display_data"
    }
   ],
   "source": [
    "fig, ax = plt.subplots(figsize=(12,8))\n",
    "ax.imshow(val[1].T, cmap='Greys', origin='lower')\n",
    "y_label_list = ['C0', 'C1', 'C2', 'C3', 'C4', 'C5', 'C6', 'C7']\n",
    "ax.set_yticks([3, 15, 27, 39, 51, 63, 75, 87])\n",
    "ax.set_yticklabels(y_label_list)\n",
    "ax.set_ylabel('Notes')\n",
    "ax.set_xlabel('Timestep')"
   ]
  },
  {
   "cell_type": "code",
   "execution_count": 7,
   "id": "15dcac31",
   "metadata": {},
   "outputs": [
    {
     "name": "stdout",
     "output_type": "stream",
     "text": [
      "Max train sequence length: 1788\n",
      "Max val sequence length: 1473\n",
      "Max test sequence length: 1793\n",
      "Mean train sequence length: 254\n",
      "Mean val sequence length: 65\n",
      "Mean test sequence length: 64\n"
     ]
    }
   ],
   "source": [
    "print(f\"Max train sequence length: {max(seq.shape[0] for seq in train)}\")\n",
    "print(f\"Max val sequence length: {max(seq.shape[0] for seq in val)}\")\n",
    "print(f\"Max test sequence length: {max(seq.shape[0] for seq in test)}\")\n",
    "print(f\"Mean train sequence length: {sum(seq.shape[0] for seq in train) // train.shape[0]}\")\n",
    "print(f\"Mean val sequence length: {sum(seq.shape[0] for seq in val) // train.shape[0]}\")\n",
    "print(f\"Mean test sequence length: {sum(seq.shape[0] for seq in test) // train.shape[0]}\")"
   ]
  },
  {
   "cell_type": "code",
   "execution_count": null,
   "id": "665998cd",
   "metadata": {},
   "outputs": [],
   "source": []
  }
 ],
 "metadata": {
  "kernelspec": {
   "display_name": "Python 3",
   "language": "python",
   "name": "python3"
  },
  "language_info": {
   "codemirror_mode": {
    "name": "ipython",
    "version": 3
   },
   "file_extension": ".py",
   "mimetype": "text/x-python",
   "name": "python",
   "nbconvert_exporter": "python",
   "pygments_lexer": "ipython3",
   "version": "3.6.13"
  }
 },
 "nbformat": 4,
 "nbformat_minor": 5
}
