{
 "cells": [
  {
   "cell_type": "code",
   "execution_count": 1,
   "metadata": {},
   "outputs": [],
   "source": [
    "import sys\n",
    "sys.path.insert(0, \"../../src/chung/\")\n",
    "\n",
    "import torch\n",
    "from IPython.display import display\n",
    "\n",
    "import utils\n",
    "from models import S2STrans\n",
    "utils.translation_root = '../../src/chung/data/translation'"
   ]
  },
  {
   "cell_type": "markdown",
   "metadata": {},
   "source": [
    "## Translation All Around\n",
    "\n",
    "This notebook aims to translate a sentence from English to German, from German to Italian, then from Italian to English using the trained models in this experiment.\n",
    "\n",
    "First, let's get the datasets for their vocabulary:"
   ]
  },
  {
   "cell_type": "code",
   "execution_count": 2,
   "metadata": {
    "scrolled": true
   },
   "outputs": [
    {
     "name": "stdout",
     "output_type": "stream",
     "text": [
      "building en vocab...\n",
      "found previously built en vocab, loading...\n",
      "there are 6079 tokens in en vocab\n",
      "building de vocab...\n",
      "found previously built de vocab, loading...\n",
      "there are 6624 tokens in de vocab\n",
      "building translation train en->de dataset...\n",
      "found preprocessed train en->de dataset, loading...\n",
      "taking 25000 subset of full data...\n",
      "truncating all sequences to have max 50 tokens...\n",
      "building de vocab...\n",
      "found previously built de vocab, loading...\n",
      "there are 6702 tokens in de vocab\n",
      "building it vocab...\n",
      "found previously built it vocab, loading...\n",
      "there are 7447 tokens in it vocab\n",
      "building translation train de->it dataset...\n",
      "found preprocessed train de->it dataset, loading...\n",
      "taking 25000 subset of full data...\n",
      "truncating all sequences to have max 50 tokens...\n",
      "building it vocab...\n",
      "found previously built it vocab, loading...\n",
      "there are 7426 tokens in it vocab\n",
      "building en vocab...\n",
      "found previously built en vocab, loading...\n",
      "there are 6141 tokens in en vocab\n",
      "building translation train it->en dataset...\n",
      "found preprocessed train it->en dataset, loading...\n",
      "taking 25000 subset of full data...\n",
      "truncating all sequences to have max 50 tokens...\n"
     ]
    }
   ],
   "source": [
    "datasets = {'en_de': utils.IWSLT2017TransDataset('en', 'de'),\n",
    "            'de_it': utils.IWSLT2017TransDataset('de', 'it'),\n",
    "            'it_en': utils.IWSLT2017TransDataset('it', 'en')}"
   ]
  },
  {
   "cell_type": "markdown",
   "metadata": {},
   "source": [
    "Now, let's load each of the trained models:"
   ]
  },
  {
   "cell_type": "code",
   "execution_count": 3,
   "metadata": {},
   "outputs": [],
   "source": [
    "models = {}\n",
    "model_types = {'lstm': '49', 'gru': '49', 'tanh': '19'}\n",
    "for dataset in datasets:\n",
    "    for rnn_type in model_types:\n",
    "        models[f'{rnn_type}_{dataset}'] = S2STrans(len(datasets[dataset].src_vocab),\n",
    "                                                   len(datasets[dataset].tgt_vocab),\n",
    "                                                   rnn_type=rnn_type,\n",
    "                                                   num_layers=2)\n",
    "        model_path = f\"../../src/chung/exp/translation/{dataset}/{rnn_type}/{model_types[rnn_type]}/model.pt\"\n",
    "        models[f'{rnn_type}_{dataset}'].load_state_dict(torch.load(model_path, map_location=torch.device('cpu')))\n",
    "        models[f'{rnn_type}_{dataset}'].eval()"
   ]
  },
  {
   "cell_type": "markdown",
   "metadata": {},
   "source": [
    "And use the following code for translation:"
   ]
  },
  {
   "cell_type": "code",
   "execution_count": 4,
   "metadata": {},
   "outputs": [],
   "source": [
    "def translate(dataset, rnn_type, sentence):\n",
    "    display(f\"Source: {sentence}\")\n",
    "    ids = torch.LongTensor(datasets[dataset].convert_src_text_to_ids(sentence)).unsqueeze(1)\n",
    "    pred, pred_score = models[f'{rnn_type}_{dataset}'].infer(ids)\n",
    "    pred = pred.squeeze(1).tolist()\n",
    "    pred_score = pred_score.item()\n",
    "    pred_text = datasets[dataset].convert_tgt_ids_to_text(pred)\n",
    "    display(f\"Pred: {pred_text}\")\n",
    "    display(f\"Pred NLL Score: {pred_score}\")\n",
    "    return pred_text"
   ]
  },
  {
   "cell_type": "markdown",
   "metadata": {},
   "source": [
    "Let this sentence be the example we'll use throughout all models:"
   ]
  },
  {
   "cell_type": "code",
   "execution_count": 5,
   "metadata": {},
   "outputs": [],
   "source": [
    "sentence = \"What starts here changes the world?\""
   ]
  },
  {
   "cell_type": "code",
   "execution_count": 6,
   "metadata": {},
   "outputs": [
    {
     "data": {
      "text/plain": [
       "'Original: What starts here changes the world?'"
      ]
     },
     "metadata": {},
     "output_type": "display_data"
    },
    {
     "data": {
      "text/plain": [
       "'Processed: What starts here changes the world ?'"
      ]
     },
     "metadata": {},
     "output_type": "display_data"
    }
   ],
   "source": [
    "processed_ids = datasets['en_de'].convert_src_text_to_ids(sentence)\n",
    "processed = datasets['en_de'].convert_src_ids_to_text(processed_ids)\n",
    "display(f\"Original: {sentence}\")\n",
    "display(f\"Processed: {processed}\")"
   ]
  },
  {
   "cell_type": "markdown",
   "metadata": {},
   "source": [
    "### LSTM"
   ]
  },
  {
   "cell_type": "code",
   "execution_count": 7,
   "metadata": {},
   "outputs": [
    {
     "data": {
      "text/plain": [
       "'Source: What starts here changes the world ?'"
      ]
     },
     "metadata": {},
     "output_type": "display_data"
    },
    {
     "data": {
      "text/plain": [
       "'Pred: Was passiert hier die Welt ?'"
      ]
     },
     "metadata": {},
     "output_type": "display_data"
    },
    {
     "data": {
      "text/plain": [
       "'Pred NLL Score: 3.308420419692993'"
      ]
     },
     "metadata": {},
     "output_type": "display_data"
    }
   ],
   "source": [
    "pred_text = translate('en_de', 'lstm', processed)"
   ]
  },
  {
   "cell_type": "code",
   "execution_count": 8,
   "metadata": {},
   "outputs": [
    {
     "data": {
      "text/plain": [
       "'Source: Was passiert hier die Welt ?'"
      ]
     },
     "metadata": {},
     "output_type": "display_data"
    },
    {
     "data": {
      "text/plain": [
       "'Pred: Cosa succede nel mondo ?'"
      ]
     },
     "metadata": {},
     "output_type": "display_data"
    },
    {
     "data": {
      "text/plain": [
       "'Pred NLL Score: 5.138217926025391'"
      ]
     },
     "metadata": {},
     "output_type": "display_data"
    }
   ],
   "source": [
    "pred_text = translate('de_it', 'lstm', pred_text)"
   ]
  },
  {
   "cell_type": "code",
   "execution_count": 9,
   "metadata": {},
   "outputs": [
    {
     "data": {
      "text/plain": [
       "'Source: Cosa succede nel mondo ?'"
      ]
     },
     "metadata": {},
     "output_type": "display_data"
    },
    {
     "data": {
      "text/plain": [
       "'Pred: What happens in the world ?'"
      ]
     },
     "metadata": {},
     "output_type": "display_data"
    },
    {
     "data": {
      "text/plain": [
       "'Pred NLL Score: 4.024959564208984'"
      ]
     },
     "metadata": {},
     "output_type": "display_data"
    }
   ],
   "source": [
    "pred_text = translate('it_en', 'lstm', pred_text)"
   ]
  },
  {
   "cell_type": "markdown",
   "metadata": {},
   "source": [
    "### GRU"
   ]
  },
  {
   "cell_type": "code",
   "execution_count": 10,
   "metadata": {},
   "outputs": [
    {
     "data": {
      "text/plain": [
       "'Source: What starts here changes the world ?'"
      ]
     },
     "metadata": {},
     "output_type": "display_data"
    },
    {
     "data": {
      "text/plain": [
       "'Pred: Was passiert hier den Menschen ?'"
      ]
     },
     "metadata": {},
     "output_type": "display_data"
    },
    {
     "data": {
      "text/plain": [
       "'Pred NLL Score: 6.731745719909668'"
      ]
     },
     "metadata": {},
     "output_type": "display_data"
    }
   ],
   "source": [
    "pred_text = translate('en_de', 'gru', processed)"
   ]
  },
  {
   "cell_type": "code",
   "execution_count": 11,
   "metadata": {},
   "outputs": [
    {
     "data": {
      "text/plain": [
       "'Source: Was passiert hier den Menschen ?'"
      ]
     },
     "metadata": {},
     "output_type": "display_data"
    },
    {
     "data": {
      "text/plain": [
       "'Pred: Cosa significa questo ?'"
      ]
     },
     "metadata": {},
     "output_type": "display_data"
    },
    {
     "data": {
      "text/plain": [
       "'Pred NLL Score: 4.70180082321167'"
      ]
     },
     "metadata": {},
     "output_type": "display_data"
    }
   ],
   "source": [
    "pred_text = translate('de_it', 'gru', pred_text)"
   ]
  },
  {
   "cell_type": "code",
   "execution_count": 12,
   "metadata": {},
   "outputs": [
    {
     "data": {
      "text/plain": [
       "'Source: Cosa significa questo ?'"
      ]
     },
     "metadata": {},
     "output_type": "display_data"
    },
    {
     "data": {
      "text/plain": [
       "'Pred: What does that mean ?'"
      ]
     },
     "metadata": {},
     "output_type": "display_data"
    },
    {
     "data": {
      "text/plain": [
       "'Pred NLL Score: 1.6696586608886719'"
      ]
     },
     "metadata": {},
     "output_type": "display_data"
    }
   ],
   "source": [
    "pred_text = translate('it_en', 'gru', pred_text)"
   ]
  },
  {
   "cell_type": "markdown",
   "metadata": {},
   "source": [
    "Honestly though, what does that mean? What does changing the world have to do with what does that mean?"
   ]
  },
  {
   "cell_type": "markdown",
   "metadata": {},
   "source": [
    "### Tanh"
   ]
  },
  {
   "cell_type": "code",
   "execution_count": 13,
   "metadata": {},
   "outputs": [
    {
     "data": {
      "text/plain": [
       "'Source: What starts here changes the world ?'"
      ]
     },
     "metadata": {},
     "output_type": "display_data"
    },
    {
     "data": {
      "text/plain": [
       "'Pred: Was ist die erste Frage ?'"
      ]
     },
     "metadata": {},
     "output_type": "display_data"
    },
    {
     "data": {
      "text/plain": [
       "'Pred NLL Score: 8.269089698791504'"
      ]
     },
     "metadata": {},
     "output_type": "display_data"
    }
   ],
   "source": [
    "pred_text = translate('en_de', 'tanh', processed)"
   ]
  },
  {
   "cell_type": "code",
   "execution_count": 14,
   "metadata": {},
   "outputs": [
    {
     "data": {
      "text/plain": [
       "'Source: Was ist die erste Frage ?'"
      ]
     },
     "metadata": {},
     "output_type": "display_data"
    },
    {
     "data": {
      "text/plain": [
       "'Pred: Qual è il primo esempio .'"
      ]
     },
     "metadata": {},
     "output_type": "display_data"
    },
    {
     "data": {
      "text/plain": [
       "'Pred NLL Score: 8.318471908569336'"
      ]
     },
     "metadata": {},
     "output_type": "display_data"
    }
   ],
   "source": [
    "pred_text = translate('de_it', 'tanh', pred_text)"
   ]
  },
  {
   "cell_type": "code",
   "execution_count": 15,
   "metadata": {},
   "outputs": [
    {
     "data": {
      "text/plain": [
       "'Source: Qual è il primo esempio .'"
      ]
     },
     "metadata": {},
     "output_type": "display_data"
    },
    {
     "data": {
      "text/plain": [
       "\"Pred: What 's the right now .\""
      ]
     },
     "metadata": {},
     "output_type": "display_data"
    },
    {
     "data": {
      "text/plain": [
       "'Pred NLL Score: 7.769245624542236'"
      ]
     },
     "metadata": {},
     "output_type": "display_data"
    }
   ],
   "source": [
    "pred_text = translate('it_en', 'tanh', pred_text)"
   ]
  },
  {
   "cell_type": "markdown",
   "metadata": {},
   "source": [
    "Yeah, I think LSTM did the best here."
   ]
  },
  {
   "cell_type": "code",
   "execution_count": null,
   "metadata": {},
   "outputs": [],
   "source": []
  }
 ],
 "metadata": {
  "kernelspec": {
   "display_name": "Python 3",
   "language": "python",
   "name": "python3"
  },
  "language_info": {
   "codemirror_mode": {
    "name": "ipython",
    "version": 3
   },
   "file_extension": ".py",
   "mimetype": "text/x-python",
   "name": "python",
   "nbconvert_exporter": "python",
   "pygments_lexer": "ipython3",
   "version": "3.6.13"
  }
 },
 "nbformat": 4,
 "nbformat_minor": 4
}
